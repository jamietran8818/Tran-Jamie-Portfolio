{
 "cells": [
  {
   "cell_type": "markdown",
   "id": "b3d20de8-4449-48fd-afb1-779f5e7c3fc1",
   "metadata": {},
   "source": [
    "# DSC 630 Week 10 Assignment\n",
    "## By: Jamie Tran \n",
    "## Date: 5/14/2024"
   ]
  },
  {
   "cell_type": "markdown",
   "id": "5cecd711-4f7f-4905-87d6-23c8aabf05fe",
   "metadata": {},
   "source": [
    "### Libraries downloaded:"
   ]
  },
  {
   "cell_type": "code",
   "execution_count": 32,
   "id": "b43f873c-3595-4e58-83a9-b78585726ea5",
   "metadata": {},
   "outputs": [],
   "source": [
    "import pandas as pd\n",
    "import numpy as np\n",
    "import sklearn\n",
    "import matplotlib.pyplot as plt\n",
    "import seaborn as sns\n",
    "from scipy.sparse import csr_matrix\n",
    "from sklearn.neighbors import NearestNeighbors"
   ]
  },
  {
   "cell_type": "markdown",
   "id": "a0a844e4-38ff-415b-88a1-6cd3695386a0",
   "metadata": {},
   "source": [
    "### Week 10 code:"
   ]
  },
  {
   "cell_type": "code",
   "execution_count": 2,
   "id": "5403998b-67d3-4d0c-bed7-a6dcf10ece61",
   "metadata": {},
   "outputs": [
    {
     "data": {
      "text/html": [
       "<div>\n",
       "<style scoped>\n",
       "    .dataframe tbody tr th:only-of-type {\n",
       "        vertical-align: middle;\n",
       "    }\n",
       "\n",
       "    .dataframe tbody tr th {\n",
       "        vertical-align: top;\n",
       "    }\n",
       "\n",
       "    .dataframe thead th {\n",
       "        text-align: right;\n",
       "    }\n",
       "</style>\n",
       "<table border=\"1\" class=\"dataframe\">\n",
       "  <thead>\n",
       "    <tr style=\"text-align: right;\">\n",
       "      <th></th>\n",
       "      <th>userId</th>\n",
       "      <th>movieId</th>\n",
       "      <th>rating</th>\n",
       "      <th>timestamp</th>\n",
       "    </tr>\n",
       "  </thead>\n",
       "  <tbody>\n",
       "    <tr>\n",
       "      <th>0</th>\n",
       "      <td>1</td>\n",
       "      <td>1</td>\n",
       "      <td>4.0</td>\n",
       "      <td>964982703</td>\n",
       "    </tr>\n",
       "    <tr>\n",
       "      <th>1</th>\n",
       "      <td>1</td>\n",
       "      <td>3</td>\n",
       "      <td>4.0</td>\n",
       "      <td>964981247</td>\n",
       "    </tr>\n",
       "    <tr>\n",
       "      <th>2</th>\n",
       "      <td>1</td>\n",
       "      <td>6</td>\n",
       "      <td>4.0</td>\n",
       "      <td>964982224</td>\n",
       "    </tr>\n",
       "    <tr>\n",
       "      <th>3</th>\n",
       "      <td>1</td>\n",
       "      <td>47</td>\n",
       "      <td>5.0</td>\n",
       "      <td>964983815</td>\n",
       "    </tr>\n",
       "    <tr>\n",
       "      <th>4</th>\n",
       "      <td>1</td>\n",
       "      <td>50</td>\n",
       "      <td>5.0</td>\n",
       "      <td>964982931</td>\n",
       "    </tr>\n",
       "  </tbody>\n",
       "</table>\n",
       "</div>"
      ],
      "text/plain": [
       "   userId  movieId  rating  timestamp\n",
       "0       1        1     4.0  964982703\n",
       "1       1        3     4.0  964981247\n",
       "2       1        6     4.0  964982224\n",
       "3       1       47     5.0  964983815\n",
       "4       1       50     5.0  964982931"
      ]
     },
     "execution_count": 2,
     "metadata": {},
     "output_type": "execute_result"
    }
   ],
   "source": [
    "#importing movie ratings dataset\n",
    "ratings = pd.read_csv('ratings.csv')\n",
    "#previewing data\n",
    "ratings.head()"
   ]
  },
  {
   "cell_type": "code",
   "execution_count": 3,
   "id": "2f0ca215-8eea-4d22-9bc7-936a7b7c04f7",
   "metadata": {},
   "outputs": [
    {
     "data": {
      "text/html": [
       "<div>\n",
       "<style scoped>\n",
       "    .dataframe tbody tr th:only-of-type {\n",
       "        vertical-align: middle;\n",
       "    }\n",
       "\n",
       "    .dataframe tbody tr th {\n",
       "        vertical-align: top;\n",
       "    }\n",
       "\n",
       "    .dataframe thead th {\n",
       "        text-align: right;\n",
       "    }\n",
       "</style>\n",
       "<table border=\"1\" class=\"dataframe\">\n",
       "  <thead>\n",
       "    <tr style=\"text-align: right;\">\n",
       "      <th></th>\n",
       "      <th>movieId</th>\n",
       "      <th>title</th>\n",
       "      <th>genres</th>\n",
       "    </tr>\n",
       "  </thead>\n",
       "  <tbody>\n",
       "    <tr>\n",
       "      <th>0</th>\n",
       "      <td>1</td>\n",
       "      <td>Toy Story (1995)</td>\n",
       "      <td>Adventure|Animation|Children|Comedy|Fantasy</td>\n",
       "    </tr>\n",
       "    <tr>\n",
       "      <th>1</th>\n",
       "      <td>2</td>\n",
       "      <td>Jumanji (1995)</td>\n",
       "      <td>Adventure|Children|Fantasy</td>\n",
       "    </tr>\n",
       "    <tr>\n",
       "      <th>2</th>\n",
       "      <td>3</td>\n",
       "      <td>Grumpier Old Men (1995)</td>\n",
       "      <td>Comedy|Romance</td>\n",
       "    </tr>\n",
       "    <tr>\n",
       "      <th>3</th>\n",
       "      <td>4</td>\n",
       "      <td>Waiting to Exhale (1995)</td>\n",
       "      <td>Comedy|Drama|Romance</td>\n",
       "    </tr>\n",
       "    <tr>\n",
       "      <th>4</th>\n",
       "      <td>5</td>\n",
       "      <td>Father of the Bride Part II (1995)</td>\n",
       "      <td>Comedy</td>\n",
       "    </tr>\n",
       "  </tbody>\n",
       "</table>\n",
       "</div>"
      ],
      "text/plain": [
       "   movieId                               title  \\\n",
       "0        1                    Toy Story (1995)   \n",
       "1        2                      Jumanji (1995)   \n",
       "2        3             Grumpier Old Men (1995)   \n",
       "3        4            Waiting to Exhale (1995)   \n",
       "4        5  Father of the Bride Part II (1995)   \n",
       "\n",
       "                                        genres  \n",
       "0  Adventure|Animation|Children|Comedy|Fantasy  \n",
       "1                   Adventure|Children|Fantasy  \n",
       "2                               Comedy|Romance  \n",
       "3                         Comedy|Drama|Romance  \n",
       "4                                       Comedy  "
      ]
     },
     "execution_count": 3,
     "metadata": {},
     "output_type": "execute_result"
    }
   ],
   "source": [
    "#importing movies dataset\n",
    "movies = pd.read_csv('movies.csv')\n",
    "#previewing data\n",
    "movies.head()"
   ]
  },
  {
   "cell_type": "code",
   "execution_count": 5,
   "id": "f7aa6253-e4af-473c-9ae1-9db96f6ce522",
   "metadata": {},
   "outputs": [
    {
     "name": "stdout",
     "output_type": "stream",
     "text": [
      "Number of ratings: 100836\n",
      "Number of different movies: 9724\n",
      "Number of different users: 610\n"
     ]
    }
   ],
   "source": [
    "#finding the number of ratings, movies, user ids in the rating data frame\n",
    "ratings_count = len(ratings)\n",
    "movies_count = len(ratings['movieId'].unique())\n",
    "users_count = len(ratings['userId'].unique())\n",
    "#printing values\n",
    "print('Number of ratings: ' + str(ratings_count))\n",
    "print('Number of different movies: ' + str(movies_count))\n",
    "print('Number of different users: ' + str(users_count))"
   ]
  },
  {
   "cell_type": "code",
   "execution_count": 7,
   "id": "5fe6582b-8ac1-45b4-8a31-daa076174af6",
   "metadata": {},
   "outputs": [
    {
     "name": "stdout",
     "output_type": "stream",
     "text": [
      "Average ratings per user : 165.30491803278687\n",
      "Average ratings per movie : 10.369806663924312\n"
     ]
    }
   ],
   "source": [
    "#finding rating per user and movie\n",
    "print('Average ratings per user : ' + str(ratings_count/users_count))\n",
    "print('Average ratings per movie : ' + str(ratings_count/movies_count))"
   ]
  },
  {
   "cell_type": "code",
   "execution_count": 54,
   "id": "e7a34e7d-112e-4fa0-bb26-204e116235b1",
   "metadata": {},
   "outputs": [
    {
     "name": "stdout",
     "output_type": "stream",
     "text": [
      "   userId  n_ratings\n",
      "0       1        232\n",
      "1       2         29\n",
      "2       3         39\n",
      "3       4        216\n",
      "4       5         44\n"
     ]
    }
   ],
   "source": [
    "#finding how often each user leaves reviews\n",
    "user_freq = ratings[['userId', 'movieId']].groupby('userId').count().reset_index()\n",
    "user_freq.columns = ['userId', 'n_ratings']\n",
    "print(user_freq.head())"
   ]
  },
  {
   "cell_type": "code",
   "execution_count": 56,
   "id": "29e06f34-3c8a-49d9-9a16-1e2372d4ebec",
   "metadata": {},
   "outputs": [
    {
     "data": {
      "text/html": [
       "<div>\n",
       "<style scoped>\n",
       "    .dataframe tbody tr th:only-of-type {\n",
       "        vertical-align: middle;\n",
       "    }\n",
       "\n",
       "    .dataframe tbody tr th {\n",
       "        vertical-align: top;\n",
       "    }\n",
       "\n",
       "    .dataframe thead th {\n",
       "        text-align: right;\n",
       "    }\n",
       "</style>\n",
       "<table border=\"1\" class=\"dataframe\">\n",
       "  <thead>\n",
       "    <tr style=\"text-align: right;\">\n",
       "      <th></th>\n",
       "      <th>movieId</th>\n",
       "      <th>title</th>\n",
       "      <th>genres</th>\n",
       "    </tr>\n",
       "  </thead>\n",
       "  <tbody>\n",
       "    <tr>\n",
       "      <th>2689</th>\n",
       "      <td>3604</td>\n",
       "      <td>Gypsy (1962)</td>\n",
       "      <td>Musical</td>\n",
       "    </tr>\n",
       "  </tbody>\n",
       "</table>\n",
       "</div>"
      ],
      "text/plain": [
       "      movieId         title   genres\n",
       "2689     3604  Gypsy (1962)  Musical"
      ]
     },
     "execution_count": 56,
     "metadata": {},
     "output_type": "execute_result"
    }
   ],
   "source": [
    "#finding mean rating\n",
    "mean_rating = ratings.groupby('movieId')[['rating']].mean()\n",
    "#finding lowest rated movie\n",
    "lowest_rated = mean_rating['rating'].idxmin()\n",
    "movies.loc[movies['movieId'] == lowest_rated]"
   ]
  },
  {
   "cell_type": "code",
   "execution_count": 57,
   "id": "8d4f96f1-4d5e-4292-90c1-0ec66146452b",
   "metadata": {},
   "outputs": [
    {
     "data": {
      "text/html": [
       "<div>\n",
       "<style scoped>\n",
       "    .dataframe tbody tr th:only-of-type {\n",
       "        vertical-align: middle;\n",
       "    }\n",
       "\n",
       "    .dataframe tbody tr th {\n",
       "        vertical-align: top;\n",
       "    }\n",
       "\n",
       "    .dataframe thead th {\n",
       "        text-align: right;\n",
       "    }\n",
       "</style>\n",
       "<table border=\"1\" class=\"dataframe\">\n",
       "  <thead>\n",
       "    <tr style=\"text-align: right;\">\n",
       "      <th></th>\n",
       "      <th>movieId</th>\n",
       "      <th>title</th>\n",
       "      <th>genres</th>\n",
       "    </tr>\n",
       "  </thead>\n",
       "  <tbody>\n",
       "    <tr>\n",
       "      <th>48</th>\n",
       "      <td>53</td>\n",
       "      <td>Lamerica (1994)</td>\n",
       "      <td>Adventure|Drama</td>\n",
       "    </tr>\n",
       "  </tbody>\n",
       "</table>\n",
       "</div>"
      ],
      "text/plain": [
       "    movieId            title           genres\n",
       "48       53  Lamerica (1994)  Adventure|Drama"
      ]
     },
     "execution_count": 57,
     "metadata": {},
     "output_type": "execute_result"
    }
   ],
   "source": [
    "#finding highest rated movie\n",
    "highest_rated = mean_rating['rating'].idxmax()\n",
    "movies.loc[movies['movieId'] == highest_rated]"
   ]
  },
  {
   "cell_type": "code",
   "execution_count": 58,
   "id": "87353b30-66d5-4e96-ba7f-c2e929b5cd2d",
   "metadata": {},
   "outputs": [
    {
     "data": {
      "text/html": [
       "<div>\n",
       "<style scoped>\n",
       "    .dataframe tbody tr th:only-of-type {\n",
       "        vertical-align: middle;\n",
       "    }\n",
       "\n",
       "    .dataframe tbody tr th {\n",
       "        vertical-align: top;\n",
       "    }\n",
       "\n",
       "    .dataframe thead th {\n",
       "        text-align: right;\n",
       "    }\n",
       "</style>\n",
       "<table border=\"1\" class=\"dataframe\">\n",
       "  <thead>\n",
       "    <tr style=\"text-align: right;\">\n",
       "      <th></th>\n",
       "      <th>userId</th>\n",
       "      <th>movieId</th>\n",
       "      <th>rating</th>\n",
       "      <th>timestamp</th>\n",
       "    </tr>\n",
       "  </thead>\n",
       "  <tbody>\n",
       "    <tr>\n",
       "      <th>13368</th>\n",
       "      <td>85</td>\n",
       "      <td>53</td>\n",
       "      <td>5.0</td>\n",
       "      <td>889468268</td>\n",
       "    </tr>\n",
       "    <tr>\n",
       "      <th>96115</th>\n",
       "      <td>603</td>\n",
       "      <td>53</td>\n",
       "      <td>5.0</td>\n",
       "      <td>963180003</td>\n",
       "    </tr>\n",
       "  </tbody>\n",
       "</table>\n",
       "</div>"
      ],
      "text/plain": [
       "       userId  movieId  rating  timestamp\n",
       "13368      85       53     5.0  889468268\n",
       "96115     603       53     5.0  963180003"
      ]
     },
     "execution_count": 58,
     "metadata": {},
     "output_type": "execute_result"
    }
   ],
   "source": [
    "#diplaying highest rated movie\n",
    "ratings[ratings['movieId'] == highest_rated]"
   ]
  },
  {
   "cell_type": "code",
   "execution_count": 59,
   "id": "fec56372-ed99-44fe-add3-827fec0ca451",
   "metadata": {},
   "outputs": [
    {
     "data": {
      "text/html": [
       "<div>\n",
       "<style scoped>\n",
       "    .dataframe tbody tr th:only-of-type {\n",
       "        vertical-align: middle;\n",
       "    }\n",
       "\n",
       "    .dataframe tbody tr th {\n",
       "        vertical-align: top;\n",
       "    }\n",
       "\n",
       "    .dataframe thead th {\n",
       "        text-align: right;\n",
       "    }\n",
       "</style>\n",
       "<table border=\"1\" class=\"dataframe\">\n",
       "  <thead>\n",
       "    <tr style=\"text-align: right;\">\n",
       "      <th></th>\n",
       "      <th>userId</th>\n",
       "      <th>movieId</th>\n",
       "      <th>rating</th>\n",
       "      <th>timestamp</th>\n",
       "    </tr>\n",
       "  </thead>\n",
       "  <tbody>\n",
       "    <tr>\n",
       "      <th>13633</th>\n",
       "      <td>89</td>\n",
       "      <td>3604</td>\n",
       "      <td>0.5</td>\n",
       "      <td>1520408880</td>\n",
       "    </tr>\n",
       "  </tbody>\n",
       "</table>\n",
       "</div>"
      ],
      "text/plain": [
       "       userId  movieId  rating   timestamp\n",
       "13633      89     3604     0.5  1520408880"
      ]
     },
     "execution_count": 59,
     "metadata": {},
     "output_type": "execute_result"
    }
   ],
   "source": [
    "#diplaying lowest rated movie\n",
    "ratings[ratings['movieId'] == lowest_rated]"
   ]
  },
  {
   "cell_type": "code",
   "execution_count": 60,
   "id": "9b57d413-0d30-4de3-918a-5d40128ecfed",
   "metadata": {},
   "outputs": [],
   "source": [
    "#removing bias from smaller movies\n",
    "movie_stats = ratings.groupby('movieId')[['rating']].agg(['count', 'mean'])\n",
    "movie_stats.columns = movie_stats.columns.droplevel()"
   ]
  },
  {
   "cell_type": "code",
   "execution_count": 67,
   "id": "6255c932-5118-4591-85e9-b40f9122976a",
   "metadata": {},
   "outputs": [],
   "source": [
    "#creating matrix of corresponding ratings to different users and movies\n",
    "def movie_matrix(data):\n",
    "    #finding number of different users and movies\n",
    "    uni_user = len(data['userId'].unique())\n",
    "    uni_movie = len(data['movieId'].unique())\n",
    "    #establishing dictionaries of unique users and movies\n",
    "    user_mapper = dict(zip(np.unique(data['userId']), list(range(uni_user))))\n",
    "    movie_mapper = dict(zip(np.unique(data['movieId']), list(range(uni_movie))))\n",
    "    #mapping users and movies to matrix\n",
    "    user_inv_mapper = dict(zip(list(range(uni_user)), np.unique(data['userId'])))\n",
    "    movie_inv_mapper = dict(zip(list(range(uni_movie)), np.unique(data['movieId'])))\n",
    "    #map corresponding indices\n",
    "    user_index = [user_mapper[i] for i in data['userId']]\n",
    "    movie_index = [movie_mapper[i] for i in data['movieId']]\n",
    "    #making matrix with user and movies indices and ratings\n",
    "    x = csr_matrix((data['rating'], (movie_index, user_index)), shape = (uni_movie,uni_user))\n",
    "\n",
    "    return x, user_mapper, movie_mapper, user_inv_mapper, movie_inv_mapper\n",
    "\n",
    "x, user_mapper, movie_mapper, user_inv_mapper, movie_inv_mapper = movie_matrix(ratings)"
   ]
  },
  {
   "cell_type": "code",
   "execution_count": 76,
   "id": "511c3146-c93b-4fe3-abca-cd5a7b8efe74",
   "metadata": {},
   "outputs": [
    {
     "name": "stdout",
     "output_type": "stream",
     "text": [
      "If you enjoyed GoldenEye (1995) give these a try:\n",
      "----------------------------------------------------------\n",
      "Die Hard: With a Vengeance (1995)\n",
      "True Lies (1994)\n",
      "Clear and Present Danger (1994)\n",
      "Speed (1994)\n",
      "Batman (1989)\n",
      "Stargate (1994)\n",
      "Jurassic Park (1993)\n",
      "Batman Forever (1995)\n",
      "Mission: Impossible (1996)\n",
      "Terminator 2: Judgment Day (1991)\n"
     ]
    }
   ],
   "source": [
    "#creating matrix to reccomend similarly rated movies \n",
    "def similar_movies(movie_id, x, k, metric = 'cosine', show_distance = False):\n",
    "    #creating empty list where titles will be held \n",
    "    neighbor_ids = []\n",
    "    #getting index of movie and corresponding user\n",
    "    movie_ind = movie_mapper[movie_id]\n",
    "    movie_vec = x[movie_ind]\n",
    "    #using KNN to find most similar movies in range\n",
    "    k+=1\n",
    "    kNN = NearestNeighbors(n_neighbors = k, algorithm = 'brute', metric = metric)\n",
    "    kNN.fit(x)\n",
    "    movie_vec = movie_vec.reshape(1,-1)\n",
    "    neighbor = kNN.kneighbors(movie_vec, return_distance = show_distance)\n",
    "    #adding titles to empty list\n",
    "    for i in range(0, k):\n",
    "        n = neighbor.item(i)\n",
    "        neighbor_ids.append(movie_inv_mapper[n])\n",
    "    neighbor_ids.pop(0)\n",
    "    return neighbor_ids\n",
    "#finding movie titles in dictionary \n",
    "movie_titles = dict(zip(movies['movieId'], movies['title']))\n",
    "#assigning test value \n",
    "movie_id = 10\n",
    "\n",
    "similar_ids = similar_movies(movie_id, x, k=10)\n",
    "movie_title = movie_titles[movie_id]\n",
    "\n",
    "print('If you enjoyed ' + str(movie_title) + ' give these a try:')\n",
    "print('----------------------------------------------------------')\n",
    "for i in similar_ids:\n",
    "    print(movie_titles[i])"
   ]
  },
  {
   "cell_type": "code",
   "execution_count": 75,
   "id": "9858ae34-7e52-4ee6-b85b-b955fac257dc",
   "metadata": {},
   "outputs": [],
   "source": [
    "#creating function that reccomends movie\n",
    "def recommend_movies_for_user(user_id, x, user_mapper, movie_mapper, movie_inv_mapper, k=10):\n",
    "    #seeing if user has rating history\n",
    "    user_retrevial = ratings[ratings['userId'] == user_id]\n",
    "    #creating if statement for unknown values \n",
    "    if user_retrevial.empty:\n",
    "        print('User ' + str(user_id) + ' does not exist.')\n",
    "        return\n",
    "    #filtering for movies with highest ratings \n",
    "    movie_id = user_retrevial[user_retrevial['rating'] == max(user_retrevial['rating'])]['movieId'].iloc[0]\n",
    "    #finding titles in dictionary\n",
    "    movie_titles = dict(zip(movies['movieId'], movies['title']))\n",
    "    #finding similar movies to the highest rated\n",
    "    similar_ids = similar_movies(movie_id, x, k)\n",
    "    movie_title = movie_titles.get(movie_id, 'Movie not found')\n",
    "    #if statement for movies not found\n",
    "    if movie_title == 'Movie not found':\n",
    "        print(str(movie_id) + ' is not found')\n",
    "        return\n",
    "\n",
    "    print('Since you watched ' + str(movie_title) + ', you might also like:')\n",
    "    print('---------------------------------------------------------------')\n",
    "    for i in similar_ids:\n",
    "        print(movie_titles.get(i, 'Movies not found'))\n",
    "        "
   ]
  },
  {
   "cell_type": "code",
   "execution_count": 74,
   "id": "537b3ed1-9b98-4fc1-b3c3-3307bb7c93d5",
   "metadata": {},
   "outputs": [
    {
     "name": "stdout",
     "output_type": "stream",
     "text": [
      "Since you watched Braveheart (1995), you might also like:\n",
      "---------------------------------------------------------------\n",
      "Jurassic Park (1993)\n",
      "Terminator 2: Judgment Day (1991)\n",
      "Fugitive, The (1993)\n",
      "Forrest Gump (1994)\n",
      "Pulp Fiction (1994)\n",
      "True Lies (1994)\n",
      "Apollo 13 (1995)\n",
      "Dances with Wolves (1990)\n",
      "Shawshank Redemption, The (1994)\n",
      "Batman (1989)\n"
     ]
    }
   ],
   "source": [
    "#assigning test value\n",
    "user_id = 128\n",
    "recommend_movies_for_user(user_id, x, user_mapper, movie_mapper, movie_inv_mapper, k=10)"
   ]
  },
  {
   "cell_type": "code",
   "execution_count": 71,
   "id": "bbc69b5e-cb69-426d-bcb7-df4bd7ef3958",
   "metadata": {},
   "outputs": [
    {
     "name": "stdout",
     "output_type": "stream",
     "text": [
      "User 700 does not exist.\n"
     ]
    }
   ],
   "source": [
    "#assigning and testing value that doesn't exist\n",
    "user_id = 700\n",
    "recommend_movies_for_user(user_id, x, user_mapper, movie_mapper, movie_inv_mapper, k=10)"
   ]
  },
  {
   "cell_type": "markdown",
   "id": "422c0893-7efe-490d-ade0-277c71310eee",
   "metadata": {},
   "source": [
    "### Write up:"
   ]
  },
  {
   "cell_type": "markdown",
   "id": "0d24387c-fd16-4364-9262-82c6baa08cf1",
   "metadata": {},
   "source": [
    "   To begin the research we start by downloading the necessary libraries to complete the model. After importing the ratings and movies dataset we will begin some exploratory analysis. To get a better understanding of the information we used the len function to find out how many ratings, different users and movies were present. We also used the groupby function to find the mean rating as well as the most frequent movie reviewers. Through this exploratory analysis we were able to see that some movies had a very low number of reviews. To help with this bias we utilized the Bayesian Average to add extra values for these movies. \n",
    "   \n",
    "   Moving on to the first function that must be created for this reccommender system, the movie matrix. This is the integral part of this model, this matrix will map out user sentiment to various movies. We start by assigning our uni_user and uni_movies variables to different user IDs and movies. The user and movie mapper variables assigned these unique values to specific indices. From there the user and movie inv mappers will tie these two variables back together by mapping the indicies back to the original user and movie IDs. Next the movie and user indexes creates a list that maps the user or movie ID back to their corresponding index using the mapping functions we created previously. Lastly, the csr matrix function is used to create a matrix with the user indicies as columns, movies indices as rows and then the ratings to fill the data.\n",
    "   \n",
    "   Our next function we are creating will find similar movies to the one provided based on the user's past ratings. We start by creating an empty list that our recommendations will be added to. The movie_ind variable utilizes the movie mapper function to get the index of a given movie in the dictionary. Movie_vec utilizes the user matrix to get the featured vector. From there the kNN model is fitted and used to find the nearest neighbors of the given movie through the vector that was found earlier. The for loop is designed to iterate over the similar movies in the vector and add them to the empty list we created at the beginning. Afterwards the intial movie is removed from the list because of course we can't reccomend the same movie as the one they entered. In the similar ids variable the top 10 titles are matched up with their index to be displayed. From there a test variable is assigned so the function can be ran.\n",
    "   \n",
    "   This last function reccomends best movies for a user based on their rating history as opposed to the previous function which reccomended similar movies to the one input. We start by seeing if the user has rated any movies previously. If they have no history then an if statement is ready to let them know we can make a reccodmendation off no data. If the user does have a history the movie_id variable checks for the user's highest rated movies. The movie titles variable creates a dictionary of these highest rated titles. Then the similar IDs variable uses the similar_movies function to find movies like their highest rated history. A print function is then written to display the results. Similar to the last function test variables are assigned to ensure the function works properly."
   ]
  },
  {
   "cell_type": "markdown",
   "id": "00f240ab-e23a-4a4f-b035-834703995efd",
   "metadata": {},
   "source": [
    "### Citations:"
   ]
  },
  {
   "cell_type": "markdown",
   "id": "0e6a7ff1-7808-413a-9002-099edd4bd79c",
   "metadata": {},
   "source": [
    "“Recommendation System in Python.” GeeksforGeeks, GeeksforGeeks, 20 Oct. 2023, www.geeksforgeeks.org/recommendation-system-in-python/. "
   ]
  }
 ],
 "metadata": {
  "kernelspec": {
   "display_name": "Python 3 (ipykernel)",
   "language": "python",
   "name": "python3"
  },
  "language_info": {
   "codemirror_mode": {
    "name": "ipython",
    "version": 3
   },
   "file_extension": ".py",
   "mimetype": "text/x-python",
   "name": "python",
   "nbconvert_exporter": "python",
   "pygments_lexer": "ipython3",
   "version": "3.11.4"
  }
 },
 "nbformat": 4,
 "nbformat_minor": 5
}
