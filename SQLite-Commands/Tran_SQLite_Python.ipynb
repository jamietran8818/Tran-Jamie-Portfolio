{
 "cells": [
  {
   "cell_type": "markdown",
   "id": "8b39009b-0f19-4c16-9607-552666f3f3cf",
   "metadata": {},
   "source": [
    "# DSC 540 Week 11&12 Assignment \n",
    "## By: Jamie Tran \n",
    "## Date: 2/24/2024"
   ]
  },
  {
   "cell_type": "markdown",
   "id": "60d58683-4644-4228-a801-e365f8cd8c28",
   "metadata": {},
   "source": [
    "### Libraries Downloaded:"
   ]
  },
  {
   "cell_type": "code",
   "execution_count": 19,
   "id": "c1c99c46-523a-4da5-988a-23d7629434a9",
   "metadata": {},
   "outputs": [],
   "source": [
    "import sqlite3"
   ]
  },
  {
   "cell_type": "markdown",
   "id": "b1cffb2c-b597-48d8-a8c6-42a730c4fd13",
   "metadata": {},
   "source": [
    "### Activity 11:"
   ]
  },
  {
   "cell_type": "code",
   "execution_count": 25,
   "id": "8ecead51-9059-459d-a2fe-92f5a0d2a087",
   "metadata": {},
   "outputs": [],
   "source": [
    "#Importing petsDB data.\n",
    "pets = sqlite3.connect('petsdb')"
   ]
  },
  {
   "cell_type": "code",
   "execution_count": 26,
   "id": "9121a78b-807a-496d-9942-a75659877aca",
   "metadata": {},
   "outputs": [],
   "source": [
    "#Creating a function with try and except to see if the import was successful.\n",
    "def is_open(pets):\n",
    "    try: \n",
    "        pets.execute('SELECT * FROM persons LIMIT 1')\n",
    "        return True\n",
    "    except sqlite3.ProgrammingError as e:\n",
    "        return False"
   ]
  },
  {
   "cell_type": "code",
   "execution_count": 27,
   "id": "67b38143-f203-4338-af50-c222a196145f",
   "metadata": {},
   "outputs": [
    {
     "name": "stdout",
     "output_type": "stream",
     "text": [
      "True\n"
     ]
    }
   ],
   "source": [
    "#Checking to see if the connection was successful. \n",
    "print(is_open(pets))"
   ]
  },
  {
   "cell_type": "code",
   "execution_count": 29,
   "id": "70cf0999-ff64-4b25-ad67-4574c5d645b4",
   "metadata": {},
   "outputs": [
    {
     "name": "stdout",
     "output_type": "stream",
     "text": [
      "We have 2 people aged 5\n",
      "We have 1 people aged 6\n",
      "We have 1 people aged 7\n",
      "We have 3 people aged 8\n",
      "We have 1 people aged 9\n",
      "We have 2 people aged 11\n",
      "We have 3 people aged 12\n",
      "We have 1 people aged 13\n",
      "We have 4 people aged 14\n",
      "We have 2 people aged 16\n",
      "We have 2 people aged 17\n",
      "We have 3 people aged 18\n",
      "We have 1 people aged 19\n",
      "We have 3 people aged 22\n",
      "We have 2 people aged 23\n",
      "We have 3 people aged 24\n",
      "We have 2 people aged 25\n",
      "We have 1 people aged 27\n",
      "We have 1 people aged 30\n",
      "We have 3 people aged 31\n",
      "We have 1 people aged 32\n",
      "We have 1 people aged 33\n",
      "We have 2 people aged 34\n",
      "We have 3 people aged 35\n",
      "We have 3 people aged 36\n",
      "We have 1 people aged 37\n",
      "We have 2 people aged 39\n",
      "We have 1 people aged 40\n",
      "We have 1 people aged 42\n",
      "We have 2 people aged 44\n",
      "We have 2 people aged 48\n",
      "We have 1 people aged 49\n",
      "We have 1 people aged 50\n",
      "We have 2 people aged 51\n",
      "We have 2 people aged 52\n",
      "We have 2 people aged 53\n",
      "We have 2 people aged 54\n",
      "We have 1 people aged 58\n",
      "We have 1 people aged 59\n",
      "We have 1 people aged 60\n",
      "We have 1 people aged 61\n",
      "We have 2 people aged 62\n",
      "We have 1 people aged 63\n",
      "We have 2 people aged 65\n",
      "We have 2 people aged 66\n",
      "We have 1 people aged 67\n",
      "We have 3 people aged 68\n",
      "We have 1 people aged 69\n",
      "We have 1 people aged 70\n",
      "We have 4 people aged 71\n",
      "We have 1 people aged 72\n",
      "We have 5 people aged 73\n",
      "We have 3 people aged 74\n"
     ]
    }
   ],
   "source": [
    "#Creating a for loop to find the different ages in the data.\n",
    "cursor = pets.cursor()\n",
    "for people, age in cursor.execute('SELECT count(*), age FROM persons GROUP BY age'):\n",
    "    print('We have {} people aged {}'.format(people, age))"
   ]
  },
  {
   "cell_type": "code",
   "execution_count": 33,
   "id": "52d390c3-9fa6-4a7d-b6f0-0c348c5d48ce",
   "metadata": {},
   "outputs": [
    {
     "name": "stdout",
     "output_type": "stream",
     "text": [
      "Highest number of people 5 came from 73 age group\n"
     ]
    }
   ],
   "source": [
    "#Using a for loop I will find which age group is the most populous. \n",
    "for people, age in pets.execute('SELECT count(*), age FROM persons GROUP BY age ORDER BY count(*) DESC'):\n",
    "    print('Highest number of people {} came from {} age group'.format(people, age))\n",
    "    break"
   ]
  },
  {
   "cell_type": "code",
   "execution_count": 37,
   "id": "dee19674-af22-445d-be4f-e77a88429545",
   "metadata": {},
   "outputs": [
    {
     "name": "stdout",
     "output_type": "stream",
     "text": [
      "(60,)\n"
     ]
    }
   ],
   "source": [
    "#Using for loop to see how many peope do not have their full name in this dataset. \n",
    "parse = pets.execute('SELECT count(*) FROM persons WHERE last_name IS null')\n",
    "for row in parse:\n",
    "    print(row)"
   ]
  },
  {
   "cell_type": "code",
   "execution_count": 41,
   "id": "4d6d12cc-cdf3-4362-8b03-f4a990a235ef",
   "metadata": {},
   "outputs": [
    {
     "name": "stdout",
     "output_type": "stream",
     "text": [
      "43 people have more than one pet\n"
     ]
    }
   ],
   "source": [
    "#Using for loop to see how many people have more than one pet.\n",
    "parse2 = pets.execute('SELECT count(*) FROM (SELECT count(owner_id) FROM pets GROUP BY owner_id HAVING count(owner_id) >1)')\n",
    "for row in parse2:\n",
    "    print('{} people have more than one pet'.format(row[0]))"
   ]
  },
  {
   "cell_type": "code",
   "execution_count": 40,
   "id": "e3de7997-293c-4640-9d3e-846b35db1e1f",
   "metadata": {},
   "outputs": [
    {
     "name": "stdout",
     "output_type": "stream",
     "text": [
      "(36,)\n"
     ]
    }
   ],
   "source": [
    "#Using for loop to see how many pets have recieved treatments.\n",
    "parse3 = pets.execute('SELECT count(*) FROM pets WHERE treatment_done=1')\n",
    "for row in parse3: \n",
    "    print(row)"
   ]
  },
  {
   "cell_type": "code",
   "execution_count": 43,
   "id": "8cf40d35-6e11-42fb-ba86-58afd29a2a49",
   "metadata": {},
   "outputs": [
    {
     "name": "stdout",
     "output_type": "stream",
     "text": [
      "(16,)\n"
     ]
    }
   ],
   "source": [
    "#Using for loop to see how many treated pets have a known type of pet. \n",
    "parse4 = pets.execute('SELECT count(*) FROM pets WHERE treatment_done=1 AND pet_type IS NOT null')\n",
    "for row in parse4:\n",
    "    print(row)"
   ]
  },
  {
   "cell_type": "code",
   "execution_count": 46,
   "id": "ac8f8354-9096-468b-a57d-e288c97e0879",
   "metadata": {},
   "outputs": [
    {
     "name": "stdout",
     "output_type": "stream",
     "text": [
      "(49,)\n"
     ]
    }
   ],
   "source": [
    "#Using for loop to how many pets are from east port. \n",
    "parse5 = pets.execute('SELECT count(*) FROM pets JOIN persons ON pets.owner_id = persons.id WHERE persons.city=\"east port\"')\n",
    "for row in parse5:\n",
    "    print(row)"
   ]
  },
  {
   "cell_type": "code",
   "execution_count": 50,
   "id": "f2028e9e-9b34-4f52-8210-d817a74cc684",
   "metadata": {},
   "outputs": [
    {
     "name": "stdout",
     "output_type": "stream",
     "text": [
      "(11,)\n"
     ]
    }
   ],
   "source": [
    "#Using for loop to how many treated pets are from east port. \n",
    "parse6 = pets.execute('SELECT count(*) FROM pets JOIN persons ON pets.owner_id = persons.id WHERE persons.city = \"east port\" AND pets.treatment_done=1')\n",
    "for row in parse6:\n",
    "    print(row)"
   ]
  }
 ],
 "metadata": {
  "kernelspec": {
   "display_name": "Python 3 (ipykernel)",
   "language": "python",
   "name": "python3"
  },
  "language_info": {
   "codemirror_mode": {
    "name": "ipython",
    "version": 3
   },
   "file_extension": ".py",
   "mimetype": "text/x-python",
   "name": "python",
   "nbconvert_exporter": "python",
   "pygments_lexer": "ipython3",
   "version": "3.11.4"
  }
 },
 "nbformat": 4,
 "nbformat_minor": 5
}
